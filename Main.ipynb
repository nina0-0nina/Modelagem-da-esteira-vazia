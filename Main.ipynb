//Imports
import pandas as pd

# preparaçâo do banco
data = [[3000, 177], [3200, 167], [3400, 159], [3600, 150.5], [3800, 143.5], [4000, 137], [4200, 131], [4400, 126], [4600, 122], [4800, 117.5], [5000, 114], [5200, 110], [5400, 107], [5600, 104.5], [5800, 103], [6000, 100]]
df = pd.DataFrame(data, columns=['Frequencia do inversor', 'Tempo em segundos'])
df.head()